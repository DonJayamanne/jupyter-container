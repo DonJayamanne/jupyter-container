{
 "cells": [
  {
   "cell_type": "markdown",
   "metadata": {},
   "source": [
    "# Matplotlib"
   ]
  },
  {
   "cell_type": "code",
   "execution_count": 1,
   "metadata": {},
   "outputs": [
    {
     "data": {
      "application/vnd.jupyter.widget-view+json": {
       "model_id": "beb2aed624d849e188a1ba6ba27dd29f",
       "version_major": 2,
       "version_minor": 0
      },
      "text/plain": "Canvas(toolbar=Toolbar(toolitems=[('Home', 'Reset original view', 'home', 'home'), ('Back', 'Back to previous …"
     },
     "metadata": {},
     "output_type": "display_data"
    }
   ],
   "source": [
    "import numpy as np\n",
    "import pandas as pd\n",
    "%matplotlib widget\n",
    "import matplotlib.pyplot as plt\n",
    "p = np.linspace(0,20,100)\n",
    "plt.plot(p,np.sin(15*p))\n",
    "plt.show()"
   ]
  },
  {
   "cell_type": "markdown",
   "metadata": {},
   "source": [
    "# Seaborn"
   ]
  },
  {
   "cell_type": "code",
   "execution_count": null,
   "metadata": {},
   "outputs": [],
   "source": [
    "import pandas as pd\r\n",
    "import seaborn as sns\r\n",
    "sns.set()\r\n",
    "\r\n",
    "# Load the brain networks example dataset\r\n",
    "df = sns.load_dataset(\"brain_networks\", header=[0, 1, 2], index_col=0)\r\n",
    "\r\n",
    "# Select a subset of the networks\r\n",
    "used_networks = [1, 5, 6, 7, 8, 12, 13, 17]\r\n",
    "used_columns = (df.columns.get_level_values(\"network\")\r\n",
    "                              .astype(int)\r\n",
    "                              .isin(used_networks))\r\n",
    "df = df.loc[:, used_columns]\r\n",
    "\r\n",
    "# Create a categorical palette to identify the networks\r\n",
    "network_pal = sns.husl_palette(8, s=.45)\r\n",
    "network_lut = dict(zip(map(str, used_networks), network_pal))\r\n",
    "    \r\n",
    "# Convert the palette to vectors that will be drawn on the side of the matrix\r\n",
    "networks = df.columns.get_level_values(\"network\")\r\n",
    "network_colors = pd.Series(networks, index=df.columns).map(network_lut)\r\n",
    "    \r\n",
    "    # Draw the full plot\r\n",
    "sns.clustermap(df.corr(), center=0, cmap=\"vlag\",\r\n",
    "                   row_colors=network_colors, col_colors=network_colors,\r\n",
    "                   linewidths=.75, figsize=(13, 13))"
   ]
  },
  {
   "cell_type": "markdown",
   "metadata": {},
   "source": [
    "# Altair"
   ]
  },
  {
   "cell_type": "code",
   "execution_count": null,
   "metadata": {},
   "outputs": [],
   "source": [
    "import altair as alt\r\n",
    "from vega_datasets import data\r\n",
    "\r\n",
    "states = alt.topo_feature(data.us_10m.url, 'states')\r\n",
    "source = data.population_engineers_hurricanes.url\r\n",
    "variable_list = ['population', 'engineers', 'hurricanes']\r\n",
    "\r\n",
    "alt.Chart(states).mark_geoshape().encode(\r\n",
    "    alt.Color(alt.repeat('row'), type='quantitative')\r\n",
    ").transform_lookup(\r\n",
    "    lookup='id',\r\n",
    "    from_=alt.LookupData(source, 'id', variable_list)\r\n",
    ").properties(\r\n",
    "    width=500,\r\n",
    "    height=300\r\n",
    ").project(\r\n",
    "    type='albersUsa'\r\n",
    ").repeat(\r\n",
    "    row=variable_list\r\n",
    ").resolve_scale(\r\n",
    "    color='independent'\r\n",
    ")"
   ]
  },
  {
   "cell_type": "markdown",
   "metadata": {},
   "source": [
    "# Bokeh"
   ]
  },
  {
   "cell_type": "code",
   "execution_count": null,
   "metadata": {},
   "outputs": [],
   "source": [
    "import numpy as np\r\n",
    "\r\n",
    "from bokeh.io import output_notebook, show\r\n",
    "from bokeh.models import HoverTool\r\n",
    "from bokeh.plotting import figure\r\n",
    "\r\n",
    "n = 500\r\n",
    "x = 2 + 2*np.random.standard_normal(n)\r\n",
    "y = 2 + 2*np.random.standard_normal(n)\r\n",
    "\r\n",
    "p = figure(title=\"Hexbin for 500 points\", match_aspect=True,\r\n",
    "           tools=\"wheel_zoom,reset\", background_fill_color='#440154')\r\n",
    "p.grid.visible = False\r\n",
    "\r\n",
    "r, bins = p.hexbin(x, y, size=0.5, hover_color=\"pink\", hover_alpha=0.8)\r\n",
    "\r\n",
    "p.circle(x, y, color=\"white\", size=1)\r\n",
    "\r\n",
    "p.add_tools(HoverTool(\r\n",
    "    tooltips=[(\"count\", \"@c\"), (\"(q,r)\", \"(@q, @r)\")],\r\n",
    "    mode=\"mouse\", point_policy=\"follow_mouse\", renderers=[r]\r\n",
    "))\r\n",
    "\r\n",
    "output_notebook()\r\n",
    "\r\n",
    "show(p)"
   ]
  },
  {
   "cell_type": "markdown",
   "metadata": {},
   "source": [
    "# Plotly"
   ]
  },
  {
   "cell_type": "code",
   "execution_count": null,
   "metadata": {},
   "outputs": [],
   "source": [
    "import plotly.graph_objects as go\r\n",
    "from plotly.subplots import make_subplots\r\n",
    "\r\n",
    "# Equation of ring cyclide\r\n",
    "# see https://en.wikipedia.org/wiki/Dupin_cyclide\r\n",
    "import numpy as np\r\n",
    "a, b, d = 1.32, 1., 0.8\r\n",
    "c = a**2 - b**2\r\n",
    "u, v = np.mgrid[0:2*np.pi:100j, 0:2*np.pi:100j]\r\n",
    "x = (d * (c - a * np.cos(u) * np.cos(v)) + b**2 * np.cos(u)) / (a - c * np.cos(u) * np.cos(v))\r\n",
    "y = b * np.sin(u) * (a - d*np.cos(v)) / (a - c * np.cos(u) * np.cos(v))\r\n",
    "z = b * np.sin(v) * (c*np.cos(u) - d) / (a - c * np.cos(u) * np.cos(v))\r\n",
    "\r\n",
    "fig = make_subplots(rows=1, cols=2,\r\n",
    "                    specs=[[{'is_3d': True}, {'is_3d': True}]],\r\n",
    "                    subplot_titles=['Color corresponds to z', 'Color corresponds to distance to origin'],\r\n",
    "                    )\r\n",
    "\r\n",
    "fig.add_trace(go.Surface(x=x, y=y, z=z, colorbar_x=-0.07), 1, 1)\r\n",
    "fig.add_trace(go.Surface(x=x, y=y, z=z, surfacecolor=x**2 + y**2 + z**2), 1, 2)\r\n",
    "fig.update_layout(title_text=\"Ring cyclide\")\r\n",
    "fig.show()"
   ]
  },
  {
   "cell_type": "markdown",
   "metadata": {},
   "source": [
    "# nglview"
   ]
  },
  {
   "cell_type": "code",
   "execution_count": null,
   "metadata": {},
   "outputs": [],
   "source": [
    "import nglview\r\n",
    "view = nglview.show_pdbid(\"3pqr\")  # load \"3pqr\" from RCSB PDB and display viewer widget\r\n",
    "view\r\n"
   ]
  },
  {
   "cell_type": "markdown",
   "metadata": {},
   "source": [
    "# iPyLeaflet"
   ]
  },
  {
   "cell_type": "code",
   "execution_count": null,
   "metadata": {},
   "outputs": [],
   "source": [
    "from ipyleaflet import (\r\n",
    "    Map,\r\n",
    "    Marker, MarkerCluster,\r\n",
    "    TileLayer, ImageOverlay,\r\n",
    "    Polyline, Polygon, Rectangle, Circle, CircleMarker,\r\n",
    "    Popup,\r\n",
    "    GeoJSON,\r\n",
    "    DrawControl,\r\n",
    "    basemaps\r\n",
    ")\r\n",
    "from ipyleaflet.leaflet import Heatmap\r\n",
    "from ipywidgets import HTML\r\n",
    "from random import uniform\r\n",
    "import time\r\n",
    "center = (52.204793, 360.121558)\r\n",
    "\r\n",
    "m = Map(center=center, zoom=15)\r\n",
    "\r\n",
    "marker = Marker(location=center, draggable=True)\r\n",
    "m.add_layer(marker);\r\n",
    "\r\n",
    "display(m)"
   ]
  },
  {
   "cell_type": "code",
   "execution_count": null,
   "metadata": {},
   "outputs": [],
   "source": [
    "def create_random_data(length):\r\n",
    "    \"Return a list of some random lat/lon/value triples.\"\r\n",
    "    return [[uniform(-80, 80), \r\n",
    "             uniform(-180, 180), \r\n",
    "             uniform(0, 1000)] for i in range(length)]"
   ]
  },
  {
   "cell_type": "code",
   "execution_count": null,
   "metadata": {},
   "outputs": [],
   "source": [
    "m = Map(center=[0, 0], zoom=2)\r\n",
    "heat = Heatmap(locations=create_random_data(1000), radius=20, blur=10)\r\n",
    "m.add_layer(heat)\r\n",
    "m.interact(zoom=(2,10,.25))"
   ]
  },
  {
   "cell_type": "markdown",
   "metadata": {},
   "source": [
    "## Use the slider above to zoom in/out the map below"
   ]
  },
  {
   "cell_type": "code",
   "execution_count": null,
   "metadata": {},
   "outputs": [],
   "source": [
    "m"
   ]
  },
  {
   "cell_type": "code",
   "execution_count": null,
   "metadata": {},
   "outputs": [],
   "source": [
    "from drawdata import draw_line, draw_scatter, draw_histogram\r\n",
    "\r\n",
    "draw_scatter()"
   ]
  },
  {
   "cell_type": "code",
   "execution_count": null,
   "metadata": {},
   "outputs": [],
   "source": []
  }
 ],
 "metadata": {
  "kernelspec": {
   "display_name": "Python 3.8.8 64-bit ('base': conda)",
   "language": "python",
   "name": "python388jvsc74a57bd098b0a9b7b4eaaa670588a142fd0a9b87eaafe866f1db4228be72b4211d12040f"
  },
  "language_info": {
   "name": "python",
   "version": ""
  },
  "metadata": {
   "interpreter": {
    "hash": "f417d8be4a2dbb6c8eaef9dfe352079398beee868b3d93931535276f886a198f"
   }
  },
  "orig_nbformat": 2
 },
 "nbformat": 4,
 "nbformat_minor": 2
}